{
 "cells": [
  {
   "cell_type": "markdown",
   "metadata": {},
   "source": [
    "# Scraping filmweb.com page\n",
    "\n",
    " Grzegorz Kowalczyk, Kamil Matuszelański"
   ]
  },
  {
   "cell_type": "markdown",
   "metadata": {},
   "source": [
    "### Website description"
   ]
  },
  {
   "cell_type": "markdown",
   "metadata": {},
   "source": [
    "Filmweb is a website on which users can obtain information about movies. It also provides convenient way to rate movies. The users are able to give ratings from 1 to 10 stars. The website also provides social networking functions. Users can add friends and compare their ratings. One of the convenient features is the ability to log in with facebook, and obtain friends suggestions from there. "
   ]
  },
  {
   "cell_type": "markdown",
   "metadata": {},
   "source": [
    "### Project details"
   ]
  },
  {
   "cell_type": "markdown",
   "metadata": {},
   "source": [
    "Filweb.com page required a dynamic approach, thus **we have prepared scrapers using selenium and scrapy libraries**. "
   ]
  },
  {
   "cell_type": "markdown",
   "metadata": {},
   "source": [
    "The main goal of the scraper was to obtain as much information about rated movies (by any users) as possible. Thus, our scraper consists of 2 parts:\n",
    "\n",
    "1. Scraping list of particular friends. After getting that list, scraping list of friends' friends (and continue). \n",
    "2. For each user obtained from previous step, scraping list of movies rated by that user."
   ]
  },
  {
   "cell_type": "markdown",
   "metadata": {},
   "source": [
    "It is possible to see only 30 movies of user for which we are not friends with. Thus, to provide full information about friends' movies rated, we have added login with facebook feature. This is possible to do only with javascript enabled, as Facebook authentication mechanisms are suspicious about scrapers usage, and the page refused connection without a selenium browser running. The other reason for using interactive approach was scraping list of friends. This subpage requires \"infinite scrolling\" to show all friends of a particular user.  "
   ]
  },
  {
   "cell_type": "markdown",
   "metadata": {},
   "source": [
    "#### Scrapy part\n",
    "\n",
    "To obtain interactivity with scrapy, we have used scrapy-selenium library. As using scrapy with selenium as middleware is very slow we have tried to limit the work done with scrapy-selenium. There are 3 spiders in total:\n",
    "\n",
    "- `login`\n",
    "- `friends`\n",
    "- `movies`.\n",
    "\n",
    "To run the main movies part and scrape full information about ratings, being logged in with facebook was needed. The mechanism is to do login part with scrapy selenium, save cookies obtained from that request to an external file (`cookies.json`), and use these cookies in running movies part. \n"
   ]
  },
  {
   "cell_type": "markdown",
   "metadata": {},
   "source": [
    "#### Running instructions\n"
   ]
  },
  {
   "cell_type": "markdown",
   "metadata": {},
   "source": [
    "TODO"
   ]
  },
  {
   "cell_type": "code",
   "execution_count": null,
   "metadata": {},
   "outputs": [],
   "source": []
  }
 ],
 "metadata": {
  "kernelspec": {
   "display_name": "Python [conda env:flixbus]",
   "language": "python",
   "name": "conda-env-flixbus-py"
  },
  "language_info": {
   "codemirror_mode": {
    "name": "ipython",
    "version": 3
   },
   "file_extension": ".py",
   "mimetype": "text/x-python",
   "name": "python",
   "nbconvert_exporter": "python",
   "pygments_lexer": "ipython3",
   "version": "3.7.5"
  }
 },
 "nbformat": 4,
 "nbformat_minor": 4
}
