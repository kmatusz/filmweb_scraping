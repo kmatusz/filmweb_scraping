{
 "cells": [
  {
   "cell_type": "code",
   "execution_count": 76,
   "metadata": {},
   "outputs": [],
   "source": [
    "import pandas as pd"
   ]
  },
  {
   "cell_type": "code",
   "execution_count": 77,
   "metadata": {},
   "outputs": [
    {
     "data": {
      "text/html": [
       "<div>\n",
       "<style scoped>\n",
       "    .dataframe tbody tr th:only-of-type {\n",
       "        vertical-align: middle;\n",
       "    }\n",
       "\n",
       "    .dataframe tbody tr th {\n",
       "        vertical-align: top;\n",
       "    }\n",
       "\n",
       "    .dataframe thead th {\n",
       "        text-align: right;\n",
       "    }\n",
       "</style>\n",
       "<table border=\"1\" class=\"dataframe\">\n",
       "  <thead>\n",
       "    <tr style=\"text-align: right;\">\n",
       "      <th></th>\n",
       "      <th>movie_id</th>\n",
       "      <th>movie_rating_avg</th>\n",
       "      <th>movie_rating_no</th>\n",
       "      <th>movie_title</th>\n",
       "      <th>movie_year</th>\n",
       "      <th>user_rated_day</th>\n",
       "      <th>user_rated_month</th>\n",
       "      <th>user_rated_year</th>\n",
       "      <th>user_rating</th>\n",
       "      <th>user_url</th>\n",
       "    </tr>\n",
       "  </thead>\n",
       "  <tbody>\n",
       "    <tr>\n",
       "      <th>0</th>\n",
       "      <td>1046</td>\n",
       "      <td>7,9</td>\n",
       "      <td>205 649</td>\n",
       "      <td>Taksówkarz</td>\n",
       "      <td>1976</td>\n",
       "      <td>29</td>\n",
       "      <td>3</td>\n",
       "      <td>2020</td>\n",
       "      <td>7</td>\n",
       "      <td>https://www.filmweb.pl/user/Kamilmac/films</td>\n",
       "    </tr>\n",
       "    <tr>\n",
       "      <th>1</th>\n",
       "      <td>31670</td>\n",
       "      <td>7,9</td>\n",
       "      <td>29 124</td>\n",
       "      <td>Tam, gdzie rosną poziomki</td>\n",
       "      <td>1957</td>\n",
       "      <td>29</td>\n",
       "      <td>3</td>\n",
       "      <td>2020</td>\n",
       "      <td>8</td>\n",
       "      <td>https://www.filmweb.pl/user/Kamilmac/films</td>\n",
       "    </tr>\n",
       "    <tr>\n",
       "      <th>2</th>\n",
       "      <td>762864</td>\n",
       "      <td>6,7</td>\n",
       "      <td>78 534</td>\n",
       "      <td>Lady Bird</td>\n",
       "      <td>2017</td>\n",
       "      <td>25</td>\n",
       "      <td>3</td>\n",
       "      <td>2020</td>\n",
       "      <td>7</td>\n",
       "      <td>https://www.filmweb.pl/user/Kamilmac/films</td>\n",
       "    </tr>\n",
       "    <tr>\n",
       "      <th>3</th>\n",
       "      <td>30726</td>\n",
       "      <td>7,2</td>\n",
       "      <td>12 408</td>\n",
       "      <td>West Side Story</td>\n",
       "      <td>1961</td>\n",
       "      <td>2</td>\n",
       "      <td>1</td>\n",
       "      <td>2020</td>\n",
       "      <td>8</td>\n",
       "      <td>https://www.filmweb.pl/user/greyshh/films</td>\n",
       "    </tr>\n",
       "    <tr>\n",
       "      <th>4</th>\n",
       "      <td>757223</td>\n",
       "      <td>5,5</td>\n",
       "      <td>13 365</td>\n",
       "      <td>Wszystkie nieprzespane noce</td>\n",
       "      <td>2016</td>\n",
       "      <td>24</td>\n",
       "      <td>3</td>\n",
       "      <td>2020</td>\n",
       "      <td>8</td>\n",
       "      <td>https://www.filmweb.pl/user/Kamilmac/films</td>\n",
       "    </tr>\n",
       "  </tbody>\n",
       "</table>\n",
       "</div>"
      ],
      "text/plain": [
       "  movie_id movie_rating_avg movie_rating_no                  movie_title  \\\n",
       "0     1046              7,9         205 649                   Taksówkarz   \n",
       "1    31670              7,9          29 124    Tam, gdzie rosną poziomki   \n",
       "2   762864              6,7          78 534                    Lady Bird   \n",
       "3    30726              7,2          12 408              West Side Story   \n",
       "4   757223              5,5          13 365  Wszystkie nieprzespane noce   \n",
       "\n",
       "  movie_year user_rated_day user_rated_month user_rated_year user_rating  \\\n",
       "0       1976             29                3            2020           7   \n",
       "1       1957             29                3            2020           8   \n",
       "2       2017             25                3            2020           7   \n",
       "3       1961              2                1            2020           8   \n",
       "4       2016             24                3            2020           8   \n",
       "\n",
       "                                     user_url  \n",
       "0  https://www.filmweb.pl/user/Kamilmac/films  \n",
       "1  https://www.filmweb.pl/user/Kamilmac/films  \n",
       "2  https://www.filmweb.pl/user/Kamilmac/films  \n",
       "3   https://www.filmweb.pl/user/greyshh/films  \n",
       "4  https://www.filmweb.pl/user/Kamilmac/films  "
      ]
     },
     "execution_count": 77,
     "metadata": {},
     "output_type": "execute_result"
    }
   ],
   "source": [
    "a = pd.read_csv('movies.csv', dtype='object')\n",
    "a.head()"
   ]
  },
  {
   "cell_type": "code",
   "execution_count": 78,
   "metadata": {},
   "outputs": [
    {
     "data": {
      "text/plain": [
       "movie_id            object\n",
       "movie_rating_avg    object\n",
       "movie_rating_no     object\n",
       "movie_title         object\n",
       "movie_year          object\n",
       "user_rated_day      object\n",
       "user_rated_month    object\n",
       "user_rated_year     object\n",
       "user_rating         object\n",
       "user_url            object\n",
       "dtype: object"
      ]
     },
     "execution_count": 78,
     "metadata": {},
     "output_type": "execute_result"
    }
   ],
   "source": [
    "a.dtypes"
   ]
  },
  {
   "cell_type": "code",
   "execution_count": 79,
   "metadata": {},
   "outputs": [],
   "source": [
    "a['user_rated_date'] = pd.to_datetime(a.rename(columns={'user_rated_day':'Day', 'user_rated_month':'Month', 'user_rated_year':'Year'})[['Day','Month','Year']])"
   ]
  },
  {
   "cell_type": "code",
   "execution_count": 80,
   "metadata": {},
   "outputs": [],
   "source": [
    "a = a.drop(['user_rated_day', 'user_rated_month', 'user_rated_year'], axis = 1)"
   ]
  },
  {
   "cell_type": "code",
   "execution_count": 81,
   "metadata": {},
   "outputs": [],
   "source": [
    "a['movie_rating_avg'] = a.movie_rating_avg.apply(lambda x: float(x.replace(',', '.').replace(' ', '')))\n",
    "a['movie_rating_no'] = a.movie_rating_no.apply(lambda x: float(x.replace(',', '.').replace(' ', '')))\n",
    "\n",
    "a['user_rating'] = a.user_rating.astype(int)"
   ]
  },
  {
   "cell_type": "code",
   "execution_count": 85,
   "metadata": {},
   "outputs": [
    {
     "data": {
      "text/html": [
       "<div>\n",
       "<style scoped>\n",
       "    .dataframe tbody tr th:only-of-type {\n",
       "        vertical-align: middle;\n",
       "    }\n",
       "\n",
       "    .dataframe tbody tr th {\n",
       "        vertical-align: top;\n",
       "    }\n",
       "\n",
       "    .dataframe thead th {\n",
       "        text-align: right;\n",
       "    }\n",
       "</style>\n",
       "<table border=\"1\" class=\"dataframe\">\n",
       "  <thead>\n",
       "    <tr style=\"text-align: right;\">\n",
       "      <th></th>\n",
       "      <th>movie_id</th>\n",
       "      <th>movie_rating_avg</th>\n",
       "      <th>movie_rating_no</th>\n",
       "      <th>movie_title</th>\n",
       "      <th>movie_year</th>\n",
       "      <th>user_rating</th>\n",
       "      <th>user_url</th>\n",
       "      <th>user_rated_date</th>\n",
       "    </tr>\n",
       "  </thead>\n",
       "  <tbody>\n",
       "    <tr>\n",
       "      <th>0</th>\n",
       "      <td>1046</td>\n",
       "      <td>7.9</td>\n",
       "      <td>205649.0</td>\n",
       "      <td>Taksówkarz</td>\n",
       "      <td>1976</td>\n",
       "      <td>7</td>\n",
       "      <td>https://www.filmweb.pl/user/Kamilmac/films</td>\n",
       "      <td>2020-03-29</td>\n",
       "    </tr>\n",
       "    <tr>\n",
       "      <th>1</th>\n",
       "      <td>31670</td>\n",
       "      <td>7.9</td>\n",
       "      <td>29124.0</td>\n",
       "      <td>Tam, gdzie rosną poziomki</td>\n",
       "      <td>1957</td>\n",
       "      <td>8</td>\n",
       "      <td>https://www.filmweb.pl/user/Kamilmac/films</td>\n",
       "      <td>2020-03-29</td>\n",
       "    </tr>\n",
       "    <tr>\n",
       "      <th>2</th>\n",
       "      <td>762864</td>\n",
       "      <td>6.7</td>\n",
       "      <td>78534.0</td>\n",
       "      <td>Lady Bird</td>\n",
       "      <td>2017</td>\n",
       "      <td>7</td>\n",
       "      <td>https://www.filmweb.pl/user/Kamilmac/films</td>\n",
       "      <td>2020-03-25</td>\n",
       "    </tr>\n",
       "    <tr>\n",
       "      <th>3</th>\n",
       "      <td>30726</td>\n",
       "      <td>7.2</td>\n",
       "      <td>12408.0</td>\n",
       "      <td>West Side Story</td>\n",
       "      <td>1961</td>\n",
       "      <td>8</td>\n",
       "      <td>https://www.filmweb.pl/user/greyshh/films</td>\n",
       "      <td>2020-01-02</td>\n",
       "    </tr>\n",
       "    <tr>\n",
       "      <th>4</th>\n",
       "      <td>757223</td>\n",
       "      <td>5.5</td>\n",
       "      <td>13365.0</td>\n",
       "      <td>Wszystkie nieprzespane noce</td>\n",
       "      <td>2016</td>\n",
       "      <td>8</td>\n",
       "      <td>https://www.filmweb.pl/user/Kamilmac/films</td>\n",
       "      <td>2020-03-24</td>\n",
       "    </tr>\n",
       "  </tbody>\n",
       "</table>\n",
       "</div>"
      ],
      "text/plain": [
       "  movie_id  movie_rating_avg  movie_rating_no                  movie_title  \\\n",
       "0     1046               7.9         205649.0                   Taksówkarz   \n",
       "1    31670               7.9          29124.0    Tam, gdzie rosną poziomki   \n",
       "2   762864               6.7          78534.0                    Lady Bird   \n",
       "3    30726               7.2          12408.0              West Side Story   \n",
       "4   757223               5.5          13365.0  Wszystkie nieprzespane noce   \n",
       "\n",
       "  movie_year  user_rating                                    user_url  \\\n",
       "0       1976            7  https://www.filmweb.pl/user/Kamilmac/films   \n",
       "1       1957            8  https://www.filmweb.pl/user/Kamilmac/films   \n",
       "2       2017            7  https://www.filmweb.pl/user/Kamilmac/films   \n",
       "3       1961            8   https://www.filmweb.pl/user/greyshh/films   \n",
       "4       2016            8  https://www.filmweb.pl/user/Kamilmac/films   \n",
       "\n",
       "  user_rated_date  \n",
       "0      2020-03-29  \n",
       "1      2020-03-29  \n",
       "2      2020-03-25  \n",
       "3      2020-01-02  \n",
       "4      2020-03-24  "
      ]
     },
     "execution_count": 85,
     "metadata": {},
     "output_type": "execute_result"
    }
   ],
   "source": [
    "a.head()"
   ]
  },
  {
   "cell_type": "code",
   "execution_count": 83,
   "metadata": {},
   "outputs": [
    {
     "data": {
      "text/plain": [
       "movie_id                    object\n",
       "movie_rating_avg           float64\n",
       "movie_rating_no            float64\n",
       "movie_title                 object\n",
       "movie_year                  object\n",
       "user_rating                float64\n",
       "user_url                    object\n",
       "user_rated_date     datetime64[ns]\n",
       "dtype: object"
      ]
     },
     "execution_count": 83,
     "metadata": {},
     "output_type": "execute_result"
    }
   ],
   "source": [
    "a.dtypes"
   ]
  },
  {
   "cell_type": "code",
   "execution_count": null,
   "metadata": {},
   "outputs": [],
   "source": []
  }
 ],
 "metadata": {
  "kernelspec": {
   "display_name": "Python [conda env:flixbus]",
   "language": "python",
   "name": "conda-env-flixbus-py"
  },
  "language_info": {
   "codemirror_mode": {
    "name": "ipython",
    "version": 3
   },
   "file_extension": ".py",
   "mimetype": "text/x-python",
   "name": "python",
   "nbconvert_exporter": "python",
   "pygments_lexer": "ipython3",
   "version": "3.7.5"
  }
 },
 "nbformat": 4,
 "nbformat_minor": 4
}
