{
 "cells": [
  {
   "cell_type": "markdown",
   "metadata": {},
   "source": [
    "# Scraping filmweb.com page\n",
    "\n",
    " Grzegorz Kowalczyk, Kamil Matuszelański"
   ]
  },
  {
   "cell_type": "markdown",
   "metadata": {},
   "source": [
    "### Website description"
   ]
  },
  {
   "cell_type": "markdown",
   "metadata": {},
   "source": [
    "Filmweb is a website on which users can obtain information about movies. It also provides convenient way to rate movies. The users are able to give ratings from 1 to 10 stars. The website also provides social networking functions. Users can add friends and compare their ratings. One of the convenient features is the ability to log in with facebook, and obtain friends suggestions from there. "
   ]
  },
  {
   "cell_type": "markdown",
   "metadata": {},
   "source": [
    "### Project details"
   ]
  },
  {
   "cell_type": "markdown",
   "metadata": {},
   "source": [
    "Filweb.com page required a dynamic approach, thus **we have prepared scrapers using selenium and scrapy libraries**. "
   ]
  },
  {
   "cell_type": "markdown",
   "metadata": {},
   "source": [
    "The main goal of the scraper was to obtain as much information about rated movies (by any users) as possible. Thus, our scraper consists of 2 parts:\n",
    "\n",
    "1. Scraping list of particular friends. After getting that list, scraping list of friends' friends (and continue). \n",
    "2. For each user obtained from previous step, scraping list of movies rated by that user."
   ]
  },
  {
   "cell_type": "markdown",
   "metadata": {},
   "source": [
    "It is possible to see only 30 movies of user for which we are not friends with. Thus, to provide full information about friends' movies rated, we have added login with facebook feature. This is possible to do only with javascript enabled, as Facebook authentication mechanisms are suspicious about scrapers usage, and the page refused connection without a selenium browser running. The other reason for using interactive approach was scraping list of friends. This subpage requires \"infinite scrolling\" to show all friends of a particular user.  "
   ]
  },
  {
   "cell_type": "markdown",
   "metadata": {},
   "source": [
    "#### Scrapy part\n",
    "\n",
    "To obtain interactivity with scrapy, we have used scrapy-selenium library. As using scrapy with selenium as middleware is very slow we have tried to limit the work done with scrapy-selenium. There are 3 spiders in total:\n",
    "\n",
    "- `login`\n",
    "- `friends`\n",
    "- `movies`.\n",
    "\n",
    "To run the main movies part and scrape full information about ratings, being logged in with facebook was needed. The mechanism is to do login part with scrapy selenium, save cookies obtained from that request to an external file (`cookies.json`), and use these cookies in running movies part. \n",
    "\n",
    "After running movies scraper, some data cleaning was needed. More convenient was to do it in a separate file. The script process_data.py loads movies.csv and saves movies_cleaned.csv. "
   ]
  },
  {
   "cell_type": "markdown",
   "metadata": {},
   "source": [
    "### Basic data analysis"
   ]
  },
  {
   "cell_type": "markdown",
   "metadata": {},
   "source": [
    "Obtained dataset is presented below. In the csv provided there are ~27 thousand ratings: The scraped information includes details:\n",
    "\n",
    "- Internal filmweb movie id\n",
    "- Average rating from all site users\n",
    "- Number of votes \n",
    "- Movie title\n",
    "- Year of production\n",
    "- User who has given the rating\n",
    "- 1-10 rating\n",
    "- Date of rating"
   ]
  },
  {
   "cell_type": "code",
   "execution_count": 5,
   "metadata": {},
   "outputs": [
    {
     "data": {
      "text/html": [
       "<div>\n",
       "<style scoped>\n",
       "    .dataframe tbody tr th:only-of-type {\n",
       "        vertical-align: middle;\n",
       "    }\n",
       "\n",
       "    .dataframe tbody tr th {\n",
       "        vertical-align: top;\n",
       "    }\n",
       "\n",
       "    .dataframe thead th {\n",
       "        text-align: right;\n",
       "    }\n",
       "</style>\n",
       "<table border=\"1\" class=\"dataframe\">\n",
       "  <thead>\n",
       "    <tr style=\"text-align: right;\">\n",
       "      <th></th>\n",
       "      <th>movie_id</th>\n",
       "      <th>movie_rating_avg</th>\n",
       "      <th>movie_rating_no</th>\n",
       "      <th>movie_title</th>\n",
       "      <th>movie_year</th>\n",
       "      <th>user_rating</th>\n",
       "      <th>user_rated_date</th>\n",
       "      <th>user_name</th>\n",
       "      <th>user_page</th>\n",
       "    </tr>\n",
       "  </thead>\n",
       "  <tbody>\n",
       "    <tr>\n",
       "      <th>0</th>\n",
       "      <td>536242</td>\n",
       "      <td>7.6</td>\n",
       "      <td>48750.0</td>\n",
       "      <td>Król rozrywki</td>\n",
       "      <td>2017</td>\n",
       "      <td>10</td>\n",
       "      <td>2019-06-09</td>\n",
       "      <td>Juliette97</td>\n",
       "      <td>1</td>\n",
       "    </tr>\n",
       "    <tr>\n",
       "      <th>1</th>\n",
       "      <td>805947</td>\n",
       "      <td>6.9</td>\n",
       "      <td>58991.0</td>\n",
       "      <td>Do wszystkich chłopców, których kochałam</td>\n",
       "      <td>2018</td>\n",
       "      <td>6</td>\n",
       "      <td>2018-12-28</td>\n",
       "      <td>Juliette97</td>\n",
       "      <td>1</td>\n",
       "    </tr>\n",
       "    <tr>\n",
       "      <th>2</th>\n",
       "      <td>814049</td>\n",
       "      <td>6.1</td>\n",
       "      <td>18758.0</td>\n",
       "      <td>Zamiana z księżniczką</td>\n",
       "      <td>2018</td>\n",
       "      <td>3</td>\n",
       "      <td>2018-12-28</td>\n",
       "      <td>Juliette97</td>\n",
       "      <td>1</td>\n",
       "    </tr>\n",
       "    <tr>\n",
       "      <th>3</th>\n",
       "      <td>120851</td>\n",
       "      <td>6.6</td>\n",
       "      <td>307.0</td>\n",
       "      <td>Oko i ucho</td>\n",
       "      <td>1945</td>\n",
       "      <td>0</td>\n",
       "      <td>2020-04-08</td>\n",
       "      <td>Zohelka</td>\n",
       "      <td>1</td>\n",
       "    </tr>\n",
       "    <tr>\n",
       "      <th>4</th>\n",
       "      <td>449935</td>\n",
       "      <td>8.0</td>\n",
       "      <td>171196.0</td>\n",
       "      <td>Mój przyjaciel Hachiko</td>\n",
       "      <td>2009</td>\n",
       "      <td>7</td>\n",
       "      <td>2020-04-13</td>\n",
       "      <td>AoiYuno</td>\n",
       "      <td>1</td>\n",
       "    </tr>\n",
       "  </tbody>\n",
       "</table>\n",
       "</div>"
      ],
      "text/plain": [
       "   movie_id  movie_rating_avg  movie_rating_no  \\\n",
       "0    536242               7.6          48750.0   \n",
       "1    805947               6.9          58991.0   \n",
       "2    814049               6.1          18758.0   \n",
       "3    120851               6.6            307.0   \n",
       "4    449935               8.0         171196.0   \n",
       "\n",
       "                                movie_title  movie_year  user_rating  \\\n",
       "0                             Król rozrywki        2017           10   \n",
       "1  Do wszystkich chłopców, których kochałam        2018            6   \n",
       "2                     Zamiana z księżniczką        2018            3   \n",
       "3                                Oko i ucho        1945            0   \n",
       "4                    Mój przyjaciel Hachiko        2009            7   \n",
       "\n",
       "  user_rated_date   user_name  user_page  \n",
       "0      2019-06-09  Juliette97          1  \n",
       "1      2018-12-28  Juliette97          1  \n",
       "2      2018-12-28  Juliette97          1  \n",
       "3      2020-04-08     Zohelka          1  \n",
       "4      2020-04-13     AoiYuno          1  "
      ]
     },
     "execution_count": 5,
     "metadata": {},
     "output_type": "execute_result"
    }
   ],
   "source": [
    "import pandas as pd\n",
    "import seaborn as sns\n",
    "\n",
    "movies = pd.read_csv('movies_cleaned.csv')\n",
    "movies = movies.drop(movies.columns[0], axis = 1)\n",
    "movies.head()"
   ]
  },
  {
   "cell_type": "markdown",
   "metadata": {},
   "source": [
    "Number of movies rated by each user:"
   ]
  },
  {
   "cell_type": "code",
   "execution_count": 23,
   "metadata": {},
   "outputs": [
    {
     "data": {
      "text/plain": [
       "<matplotlib.axes._subplots.AxesSubplot at 0x16688822248>"
      ]
     },
     "execution_count": 23,
     "metadata": {},
     "output_type": "execute_result"
    },
    {
     "data": {
      "image/png": "[encoded data removed]",
      "text/plain": [
       "<Figure size 432x288 with 1 Axes>"
      ]
     },
     "metadata": {
      "needs_background": "light"
     },
     "output_type": "display_data"
    }
   ],
   "source": [
    "no_movies_by_user = movies.groupby('user_name').movie_id.count().reset_index().sort_values(by = 'movie_id', ascending = False)\n",
    "sns.distplot(no_movies_by_user.movie_id, kde = False)"
   ]
  },
  {
   "cell_type": "markdown",
   "metadata": {},
   "source": [
    "Most rated movies:"
   ]
  },
  {
   "cell_type": "code",
   "execution_count": 24,
   "metadata": {},
   "outputs": [
    {
     "data": {
      "text/html": [
       "<div>\n",
       "<style scoped>\n",
       "    .dataframe tbody tr th:only-of-type {\n",
       "        vertical-align: middle;\n",
       "    }\n",
       "\n",
       "    .dataframe tbody tr th {\n",
       "        vertical-align: top;\n",
       "    }\n",
       "\n",
       "    .dataframe thead th {\n",
       "        text-align: right;\n",
       "    }\n",
       "</style>\n",
       "<table border=\"1\" class=\"dataframe\">\n",
       "  <thead>\n",
       "    <tr style=\"text-align: right;\">\n",
       "      <th></th>\n",
       "      <th>index</th>\n",
       "      <th>movie_title</th>\n",
       "    </tr>\n",
       "  </thead>\n",
       "  <tbody>\n",
       "    <tr>\n",
       "      <th>0</th>\n",
       "      <td>Nietykalni</td>\n",
       "      <td>68</td>\n",
       "    </tr>\n",
       "    <tr>\n",
       "      <th>1</th>\n",
       "      <td>Forrest Gump</td>\n",
       "      <td>63</td>\n",
       "    </tr>\n",
       "    <tr>\n",
       "      <th>2</th>\n",
       "      <td>Skazani na Shawshank</td>\n",
       "      <td>58</td>\n",
       "    </tr>\n",
       "    <tr>\n",
       "      <th>3</th>\n",
       "      <td>Zielona mila</td>\n",
       "      <td>57</td>\n",
       "    </tr>\n",
       "    <tr>\n",
       "      <th>4</th>\n",
       "      <td>Shrek</td>\n",
       "      <td>55</td>\n",
       "    </tr>\n",
       "    <tr>\n",
       "      <th>5</th>\n",
       "      <td>Incepcja</td>\n",
       "      <td>54</td>\n",
       "    </tr>\n",
       "    <tr>\n",
       "      <th>6</th>\n",
       "      <td>Avatar</td>\n",
       "      <td>54</td>\n",
       "    </tr>\n",
       "    <tr>\n",
       "      <th>7</th>\n",
       "      <td>Piraci z Karaibów: Klątwa Czarnej Perły</td>\n",
       "      <td>53</td>\n",
       "    </tr>\n",
       "    <tr>\n",
       "      <th>8</th>\n",
       "      <td>Kac Vegas</td>\n",
       "      <td>52</td>\n",
       "    </tr>\n",
       "    <tr>\n",
       "      <th>9</th>\n",
       "      <td>Wilk z Wall Street</td>\n",
       "      <td>51</td>\n",
       "    </tr>\n",
       "  </tbody>\n",
       "</table>\n",
       "</div>"
      ],
      "text/plain": [
       "                                     index  movie_title\n",
       "0                               Nietykalni           68\n",
       "1                             Forrest Gump           63\n",
       "2                     Skazani na Shawshank           58\n",
       "3                             Zielona mila           57\n",
       "4                                    Shrek           55\n",
       "5                                 Incepcja           54\n",
       "6                                   Avatar           54\n",
       "7  Piraci z Karaibów: Klątwa Czarnej Perły           53\n",
       "8                                Kac Vegas           52\n",
       "9                       Wilk z Wall Street           51"
      ]
     },
     "execution_count": 24,
     "metadata": {},
     "output_type": "execute_result"
    }
   ],
   "source": [
    "no_movies_ratings = movies.movie_title.value_counts().reset_index()\n",
    "no_movies_ratings.head(10)"
   ]
  },
  {
   "cell_type": "markdown",
   "metadata": {},
   "source": [
    "Number of ratings and mean rating. Movies below 5 ratings were dropped:"
   ]
  },
  {
   "cell_type": "code",
   "execution_count": 29,
   "metadata": {},
   "outputs": [
    {
     "data": {
      "text/plain": [
       "<matplotlib.axes._subplots.AxesSubplot at 0x166888c58c8>"
      ]
     },
     "execution_count": 29,
     "metadata": {},
     "output_type": "execute_result"
    },
    {
     "data": {
      "image/png": "[encoded data removed]",
      "text/plain": [
       "<Figure size 432x288 with 1 Axes>"
      ]
     },
     "metadata": {
      "needs_background": "light"
     },
     "output_type": "display_data"
    }
   ],
   "source": [
    "sns.scatterplot(x = 'movie_id', y = 'user_rating', data = by_movie)"
   ]
  },
  {
   "cell_type": "markdown",
   "metadata": {},
   "source": [
    "#### Running instructions\n"
   ]
  },
  {
   "cell_type": "markdown",
   "metadata": {},
   "source": [
    "To run both parts, first thing to do is copy file geckodriver.exe to a folder with current conda/pip environment. The scraper will work at its full potential for filmweb users with enabled facebook authentication, however running without login is also possible. To run selenium part: "
   ]
  },
  {
   "cell_type": "markdown",
   "metadata": {},
   "source": [
    "```\n",
    "cd selenium\n",
    "python run.py\n",
    "```\n",
    "\n",
    "Outputs are saved in selenium/data file. To run scrapy part:"
   ]
  },
  {
   "cell_type": "markdown",
   "metadata": {},
   "source": [
    "```\n",
    "cd a \n",
    "rm data/movies.csv\n",
    "scrapy crawl login\n",
    "scrapy crawl friends -o data/friends.csv\n",
    "\n",
    "scrapy crawl movies -o data/movies.csv\n",
    "python process_data.py\n",
    "```"
   ]
  }
 ],
 "metadata": {
  "kernelspec": {
   "display_name": "Python [conda env:flixbus]",
   "language": "python",
   "name": "conda-env-flixbus-py"
  },
  "language_info": {
   "codemirror_mode": {
    "name": "ipython",
    "version": 3
   },
   "file_extension": ".py",
   "mimetype": "text/x-python",
   "name": "python",
   "nbconvert_exporter": "python",
   "pygments_lexer": "ipython3",
   "version": "3.7.5"
  }
 },
 "nbformat": 4,
 "nbformat_minor": 4
}
