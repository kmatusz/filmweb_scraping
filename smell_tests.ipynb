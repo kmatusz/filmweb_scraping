{
 "cells": [
  {
   "cell_type": "code",
   "execution_count": 85,
   "metadata": {},
   "outputs": [
    {
     "data": {
      "text/plain": [
       "['{ \"t\":1585177029 ,\"eId\":762864 ,\"uId\":3542713 ,\"r\":7 ,\"d\":{ \"y\":2020 ,\"m\":3 ,\"d\":25 } , \"a\": 0 }',\n",
       " '{ \"t\":1585087100 ,\"eId\":757223 ,\"uId\":3542713 ,\"r\":8 ,\"d\":{ \"y\":2020 ,\"m\":3 ,\"d\":24 } , \"a\": 0 }',\n",
       " '{ \"t\":1585074785 ,\"eId\":448527 ,\"uId\":3542713 ,\"r\":9 ,\"d\":{ \"y\":2020 ,\"m\":3 ,\"d\":24 } , \"a\": 0 }',\n",
       " '{ \"t\":1585072594 ,\"eId\":787309 ,\"uId\":3542713 ,\"r\":9 ,\"d\":{ \"y\":2020 ,\"m\":3 ,\"d\":24 } , \"a\": 0 }',\n",
       " '{ \"t\":1585072435 ,\"eId\":1467 ,\"uId\":3542713 ,\"r\":8 ,\"d\":{ \"y\":2020 ,\"m\":3 ,\"d\":24 } , \"a\": 0 }',\n",
       " '{ \"t\":1585072373 ,\"eId\":782505 ,\"uId\":3542713 ,\"r\":7 ,\"d\":{ \"y\":2020 ,\"m\":3 ,\"d\":24 } , \"a\": 0 }',\n",
       " '{ \"t\":1585072345 ,\"eId\":1253 ,\"uId\":3542713 ,\"r\":7 ,\"d\":{ \"y\":2020 ,\"m\":3 ,\"d\":24 } , \"a\": 0 }',\n",
       " '{ \"t\":1585072294 ,\"eId\":661331 ,\"uId\":3542713 ,\"r\":8 ,\"d\":{ \"y\":2020 ,\"m\":3 ,\"d\":24 } , \"a\": 0 }',\n",
       " '{ \"t\":1585072148 ,\"eId\":772805 ,\"uId\":3542713 ,\"r\":6 ,\"d\":{ \"y\":2020 ,\"m\":3 ,\"d\":24 } , \"a\": 0 }',\n",
       " '{ \"t\":1585072144 ,\"eId\":338362 ,\"uId\":3542713 ,\"r\":9 ,\"d\":{ \"y\":2020 ,\"m\":3 ,\"d\":24 } , \"a\": 0 }',\n",
       " '{ \"t\":1585072139 ,\"eId\":767406 ,\"uId\":3542713 ,\"r\":8 ,\"d\":{ \"y\":2020 ,\"m\":3 ,\"d\":24 } , \"a\": 0 }',\n",
       " '{ \"t\":1585072128 ,\"eId\":809630 ,\"uId\":3542713 ,\"r\":6 ,\"d\":{ \"y\":2020 ,\"m\":3 ,\"d\":24 } , \"a\": 0 }',\n",
       " '{ \"t\":1585072113 ,\"eId\":823386 ,\"uId\":3542713 ,\"r\":1 ,\"d\":{ \"y\":2020 ,\"m\":3 ,\"d\":24 } , \"a\": 0 }',\n",
       " '{ \"t\":1585072072 ,\"eId\":764039 ,\"uId\":3542713 ,\"r\":8 ,\"d\":{ \"y\":2020 ,\"m\":3 ,\"d\":24 } , \"a\": 0 }',\n",
       " '{ \"t\":1585072033 ,\"eId\":680709 ,\"uId\":3542713 ,\"r\":8 ,\"d\":{ \"y\":2020 ,\"m\":3 ,\"d\":24 } , \"a\": 0 }',\n",
       " '{ \"t\":1585072030 ,\"eId\":798143 ,\"uId\":3542713 ,\"r\":8 ,\"d\":{ \"y\":2020 ,\"m\":3 ,\"d\":24 } , \"a\": 0 }',\n",
       " '{ \"t\":1585071477 ,\"eId\":1018 ,\"uId\":3542713 ,\"r\":6 ,\"d\":{ \"y\":2020 ,\"m\":3 ,\"d\":24 } , \"a\": 0 }',\n",
       " '{ \"t\":1585071310 ,\"eId\":989 ,\"uId\":3542713 ,\"r\":7 ,\"d\":{ \"y\":2020 ,\"m\":3 ,\"d\":24 } , \"a\": 0 }',\n",
       " '{ \"t\":1585071285 ,\"eId\":297829 ,\"uId\":3542713 ,\"r\":7 ,\"d\":{ \"y\":2020 ,\"m\":3 ,\"d\":24 } , \"a\": 0 }',\n",
       " '{ \"t\":1579616083 ,\"eId\":808863 ,\"uId\":3542713 ,\"r\":9 ,\"d\":{ \"y\":2020 ,\"m\":1 ,\"d\":21 } , \"a\": 0 }',\n",
       " '{ \"t\":1489782504 ,\"eId\":31864 ,\"uId\":3542713 ,\"r\":7 ,\"d\":{ \"y\":2017 ,\"m\":3 ,\"d\":17 } , \"a\": 1 }',\n",
       " '{ \"t\":1489782477 ,\"eId\":1008 ,\"uId\":3542713 ,\"r\":7 ,\"d\":{ \"y\":2017 ,\"m\":3 ,\"d\":17 } , \"a\": 1 }',\n",
       " '{ \"t\":1487108286 ,\"eId\":671 ,\"uId\":3542713 ,\"r\":8 ,\"d\":{ \"y\":2017 ,\"m\":2 ,\"d\":14 } , \"a\": 1 }',\n",
       " '{ \"t\":1486757854 ,\"eId\":31740 ,\"uId\":3542713 ,\"r\":7 ,\"d\":{ \"y\":2017 ,\"m\":2 ,\"d\":10 } , \"a\": 1 }',\n",
       " '{ \"t\":1484316678 ,\"eId\":759639 ,\"uId\":3542713 ,\"r\":6 ,\"d\":{ \"y\":2017 ,\"m\":1 ,\"d\":13 } ,\"lc\":1 , \"lu\": [ 2179494 ] , \"a\": 1 }',\n",
       " '{ \"t\":1478873651 ,\"eId\":658802 ,\"uId\":3542713 ,\"r\":7 ,\"d\":{ \"y\":2016 ,\"m\":11 ,\"d\":11 } , \"a\": 1 }',\n",
       " '{ \"t\":1477686115 ,\"eId\":587177 ,\"uId\":3542713 ,\"r\":9 ,\"d\":{ \"y\":2016 ,\"m\":10 ,\"d\":28 } ,\"lc\":1 , \"lu\": [ 2179494 ] , \"a\": 1 }',\n",
       " '{ \"t\":1475356740 ,\"eId\":607122 ,\"uId\":3542713 ,\"r\":7 ,\"d\":{ \"y\":2016 ,\"m\":10 ,\"d\":1 } , \"a\": 1 }',\n",
       " '{ \"t\":1477686627 ,\"eId\":21 ,\"uId\":3542713 ,\"r\":9 ,\"d\":{ \"y\":2016 ,\"m\":9 ,\"d\":22 } ,\"cc\":2 , \"a\": 1 }',\n",
       " '{ \"t\":1471856785 ,\"eId\":9136 ,\"uId\":3542713 ,\"r\":7 ,\"d\":{ \"y\":2016 ,\"m\":8 ,\"d\":22 } , \"a\": 1 }']"
      ]
     },
     "execution_count": 85,
     "metadata": {},
     "output_type": "execute_result"
    }
   ],
   "source": [
    "################################################################################\n",
    "# Scrapy xpath playground\n",
    "################################################################################\n",
    "# This program allows for playing with xpaths extraction,\n",
    "# and testing them for specific sites.\n",
    "from scrapy import Selector\n",
    "from urllib import request\n",
    "\n",
    "################################################################################\n",
    "# Testing link_list file:\n",
    "url = 'https://www.filmweb.pl/user/Kamilmac/films'\n",
    "html = request.urlopen(url)\n",
    "sel = Selector(text=html.read(), type=\"html\")\n",
    "\n",
    "xpath = '//div[@class = \"myVoteBox__top\"]//h3[@class=\"filmPreview__title\"]/text()' # tytuł\n",
    "xpath = '//div[@class = \"myVoteBox__top\"]//span[@class=\"filmPreview__year\"]/text()' #rok\n",
    "xpath = '//div[@class = \"myVoteBox__top\"]//span[@class=\"rateBox__rate\"]/text()' #ocena\n",
    "xpath = '//div[@class = \"myVoteBox__top\"]//span[@class=\"rateBox__votes rateBox__votes--count\"]/text()' # liczba ocen\n",
    "xpath = '//div[@class = \"myVoteBox__top\"]//div[@class=\"filmPreview__info filmPreview__info--genres\"]//ul' # gatunek (tricky, kilka naraz)\n",
    "xpath = '//div[@class = \"myVoteBox__top\"]//div[@class=\"filmPreview__info filmPreview__info--directors\"]//ul' # reżyserowie (tricky, kilka naraz)\n",
    "xpath = '//span[@class = \"dataSource hide\"]//script/text()' # Dane o ocenie jako json!\n",
    "\n",
    "# xpath = '//div[@class = \"page__container\"]//*[@class=\"voteCommentBox__container\"]//div[@data-id]/@data-id' # Id filmu do wykorzystania z joinem do ocen\n",
    "# xpath = '//div[contains(@class, \"voteCommentBox__container\")]//div[@data-id]/@data-id' # Id filmu do wykorzystania z joinem do ocen\n",
    "\n",
    "sel.xpath(xpath).getall()\n",
    "\n",
    "# https://www.filmweb.pl/ajax/userData?t=1585491934493\n",
    "\n"
   ]
  },
  {
   "cell_type": "code",
   "execution_count": null,
   "metadata": {},
   "outputs": [],
   "source": [
    "################################################################################\n",
    "# Testing links file:\n",
    "url = 'http://en.wikipedia.org/wiki/List_of_painters_by_name_beginning_with_%22M%22'\n",
    "html = request.urlopen(url)\n",
    "sel = Selector(text=html.read(), type=\"html\")\n",
    "\n",
    "xpath = '(//ul)[2]/li/a/@href'\n",
    "sel.xpath(xpath).getall()\n"
   ]
  },
  {
   "cell_type": "code",
   "execution_count": null,
   "metadata": {},
   "outputs": [],
   "source": []
  },
  {
   "cell_type": "code",
   "execution_count": 89,
   "metadata": {},
   "outputs": [
    {
     "data": {
      "text/plain": [
       "'{ \"t\":1585177029 ,\"eId\":762864 ,\"uId\":3542713 ,\"r\":7 ,\"d\":{ \"y\":2020 ,\"m\":3 ,\"d\":25 } , \"a\": 0 }'"
      ]
     },
     "execution_count": 89,
     "metadata": {},
     "output_type": "execute_result"
    }
   ],
   "source": [
    "json_list = []\n",
    "\n",
    "with open(\"a/jsons.txt\", \"r\") as f:\n",
    "    json_list = f.readlines()\n",
    "\n",
    "\n",
    "json_list = [x.strip() for x in json_list]\n",
    "json_list[0]"
   ]
  },
  {
   "cell_type": "code",
   "execution_count": 91,
   "metadata": {},
   "outputs": [],
   "source": [
    "import json\n",
    "a = json.loads(json_list[0])"
   ]
  },
  {
   "cell_type": "code",
   "execution_count": 99,
   "metadata": {},
   "outputs": [
    {
     "data": {
      "text/plain": [
       "{'t': 1585177029,\n",
       " 'eId': 762864,\n",
       " 'uId': 3542713,\n",
       " 'r': 7,\n",
       " 'd': {'y': 2020, 'm': 3, 'd': 25},\n",
       " 'a': 0}"
      ]
     },
     "execution_count": 99,
     "metadata": {},
     "output_type": "execute_result"
    }
   ],
   "source": [
    "a"
   ]
  },
  {
   "cell_type": "code",
   "execution_count": 106,
   "metadata": {},
   "outputs": [],
   "source": [
    "out = {\n",
    "    a['eId']:{\n",
    "            'rated_year': a['d']['y'],\n",
    "            'rated_month': a['d']['m'],\n",
    "            'rated_day': a['d']['d'],\n",
    "            'rating': a['r']\n",
    "            }\n",
    "}"
   ]
  },
  {
   "cell_type": "code",
   "execution_count": 107,
   "metadata": {},
   "outputs": [
    {
     "data": {
      "text/plain": [
       "{762864: {'rated_year': 2020, 'rated_month': 3, 'rated_day': 25, 'rating': 7}}"
      ]
     },
     "execution_count": 107,
     "metadata": {},
     "output_type": "execute_result"
    }
   ],
   "source": [
    "out"
   ]
  }
 ],
 "metadata": {
  "kernelspec": {
   "display_name": "Python [conda env:flixbus]",
   "language": "python",
   "name": "conda-env-flixbus-py"
  },
  "language_info": {
   "codemirror_mode": {
    "name": "ipython",
    "version": 3
   },
   "file_extension": ".py",
   "mimetype": "text/x-python",
   "name": "python",
   "nbconvert_exporter": "python",
   "pygments_lexer": "ipython3",
   "version": "3.7.5"
  }
 },
 "nbformat": 4,
 "nbformat_minor": 4
}
