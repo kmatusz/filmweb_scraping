{
 "cells": [
  {
   "cell_type": "code",
   "execution_count": 6,
   "metadata": {
    "collapsed": true,
    "jupyter": {
     "outputs_hidden": true
    }
   },
   "outputs": [
    {
     "data": {
      "text/plain": [
       "['{ \"t\":1586722940 ,\"eId\":744778 ,\"uId\":3542713 ,\"r\":9 ,\"d\":{ \"y\":2020 ,\"m\":4 ,\"d\":12 } , \"a\": 0 }',\n",
       " '{ \"t\":1586361487 ,\"eId\":104454 ,\"uId\":3542713 ,\"r\":7 ,\"d\":{ \"y\":2020 ,\"m\":4 ,\"d\":8 } , \"a\": 0 }',\n",
       " '{ \"t\":1586286902 ,\"eId\":723550 ,\"uId\":3542713 ,\"r\":8 ,\"d\":{ \"y\":2020 ,\"m\":4 ,\"d\":7 } , \"a\": 0 }',\n",
       " '{ \"t\":1586286873 ,\"eId\":732548 ,\"uId\":3542713 ,\"r\":8 ,\"d\":{ \"y\":2020 ,\"m\":4 ,\"d\":7 } , \"a\": 0 }',\n",
       " '{ \"t\":1586286787 ,\"eId\":736182 ,\"uId\":3542713 ,\"r\":0 ,\"f\": 1 ,\"d\":{ \"y\":2020 ,\"m\":4 ,\"d\":7 } , \"a\": 0 }',\n",
       " '{ \"t\":1586286737 ,\"eId\":789687 ,\"uId\":3542713 ,\"r\":6 ,\"d\":{ \"y\":2020 ,\"m\":4 ,\"d\":7 } , \"a\": 0 }',\n",
       " '{ \"t\":1586286732 ,\"eId\":681141 ,\"uId\":3542713 ,\"r\":7 ,\"d\":{ \"y\":2020 ,\"m\":4 ,\"d\":7 } , \"a\": 0 }',\n",
       " '{ \"t\":1586122931 ,\"eId\":467136 ,\"uId\":3542713 ,\"r\":7 ,\"d\":{ \"y\":2020 ,\"m\":4 ,\"d\":5 } , \"a\": 0 }',\n",
       " '{ \"t\":1585505682 ,\"eId\":1046 ,\"uId\":3542713 ,\"r\":7 ,\"d\":{ \"y\":2020 ,\"m\":3 ,\"d\":29 } , \"a\": 0 }',\n",
       " '{ \"t\":1585505607 ,\"eId\":31670 ,\"uId\":3542713 ,\"r\":8 ,\"d\":{ \"y\":2020 ,\"m\":3 ,\"d\":29 } , \"a\": 0 }',\n",
       " '{ \"t\":1585177029 ,\"eId\":762864 ,\"uId\":3542713 ,\"r\":7 ,\"d\":{ \"y\":2020 ,\"m\":3 ,\"d\":25 } , \"a\": 0 }',\n",
       " '{ \"t\":1585087100 ,\"eId\":757223 ,\"uId\":3542713 ,\"r\":8 ,\"d\":{ \"y\":2020 ,\"m\":3 ,\"d\":24 } , \"a\": 0 }',\n",
       " '{ \"t\":1585074785 ,\"eId\":448527 ,\"uId\":3542713 ,\"r\":9 ,\"d\":{ \"y\":2020 ,\"m\":3 ,\"d\":24 } , \"a\": 0 }',\n",
       " '{ \"t\":1585072594 ,\"eId\":787309 ,\"uId\":3542713 ,\"r\":9 ,\"d\":{ \"y\":2020 ,\"m\":3 ,\"d\":24 } , \"a\": 0 }',\n",
       " '{ \"t\":1585072435 ,\"eId\":1467 ,\"uId\":3542713 ,\"r\":8 ,\"d\":{ \"y\":2020 ,\"m\":3 ,\"d\":24 } , \"a\": 0 }',\n",
       " '{ \"t\":1585072373 ,\"eId\":782505 ,\"uId\":3542713 ,\"r\":7 ,\"d\":{ \"y\":2020 ,\"m\":3 ,\"d\":24 } , \"a\": 0 }',\n",
       " '{ \"t\":1585072345 ,\"eId\":1253 ,\"uId\":3542713 ,\"r\":7 ,\"d\":{ \"y\":2020 ,\"m\":3 ,\"d\":24 } , \"a\": 0 }',\n",
       " '{ \"t\":1585072294 ,\"eId\":661331 ,\"uId\":3542713 ,\"r\":8 ,\"d\":{ \"y\":2020 ,\"m\":3 ,\"d\":24 } , \"a\": 0 }',\n",
       " '{ \"t\":1585072148 ,\"eId\":772805 ,\"uId\":3542713 ,\"r\":6 ,\"d\":{ \"y\":2020 ,\"m\":3 ,\"d\":24 } , \"a\": 0 }',\n",
       " '{ \"t\":1585072144 ,\"eId\":338362 ,\"uId\":3542713 ,\"r\":9 ,\"d\":{ \"y\":2020 ,\"m\":3 ,\"d\":24 } , \"a\": 0 }',\n",
       " '{ \"t\":1585072139 ,\"eId\":767406 ,\"uId\":3542713 ,\"r\":8 ,\"d\":{ \"y\":2020 ,\"m\":3 ,\"d\":24 } , \"a\": 0 }',\n",
       " '{ \"t\":1585072128 ,\"eId\":809630 ,\"uId\":3542713 ,\"r\":6 ,\"d\":{ \"y\":2020 ,\"m\":3 ,\"d\":24 } , \"a\": 0 }',\n",
       " '{ \"t\":1585072113 ,\"eId\":823386 ,\"uId\":3542713 ,\"r\":1 ,\"d\":{ \"y\":2020 ,\"m\":3 ,\"d\":24 } , \"a\": 0 }',\n",
       " '{ \"t\":1585072072 ,\"eId\":764039 ,\"uId\":3542713 ,\"r\":8 ,\"d\":{ \"y\":2020 ,\"m\":3 ,\"d\":24 } , \"a\": 0 }',\n",
       " '{ \"t\":1585072033 ,\"eId\":680709 ,\"uId\":3542713 ,\"r\":8 ,\"d\":{ \"y\":2020 ,\"m\":3 ,\"d\":24 } , \"a\": 0 }',\n",
       " '{ \"t\":1585072030 ,\"eId\":798143 ,\"uId\":3542713 ,\"r\":8 ,\"d\":{ \"y\":2020 ,\"m\":3 ,\"d\":24 } , \"a\": 0 }',\n",
       " '{ \"t\":1585071477 ,\"eId\":1018 ,\"uId\":3542713 ,\"r\":6 ,\"d\":{ \"y\":2020 ,\"m\":3 ,\"d\":24 } , \"a\": 0 }',\n",
       " '{ \"t\":1585071310 ,\"eId\":989 ,\"uId\":3542713 ,\"r\":7 ,\"d\":{ \"y\":2020 ,\"m\":3 ,\"d\":24 } , \"a\": 0 }',\n",
       " '{ \"t\":1585071285 ,\"eId\":297829 ,\"uId\":3542713 ,\"r\":7 ,\"d\":{ \"y\":2020 ,\"m\":3 ,\"d\":24 } , \"a\": 0 }',\n",
       " '{ \"t\":1579616083 ,\"eId\":808863 ,\"uId\":3542713 ,\"r\":9 ,\"d\":{ \"y\":2020 ,\"m\":1 ,\"d\":21 } , \"a\": 0 }']"
      ]
     },
     "execution_count": 6,
     "metadata": {},
     "output_type": "execute_result"
    }
   ],
   "source": [
    "################################################################################\n",
    "# Scrapy xpath playground\n",
    "################################################################################\n",
    "# This program allows for playing with xpaths extraction,\n",
    "# and testing them for specific sites.\n",
    "from scrapy import Selector\n",
    "from urllib import request\n",
    "\n",
    "################################################################################\n",
    "# Testing link_list file:\n",
    "url = 'https://www.filmweb.pl/user/Kamilmac/films'\n",
    "html = request.urlopen(url)\n",
    "sel = Selector(text=html.read(), type=\"html\")\n",
    "\n",
    "xpath = '//div[@class = \"myVoteBox__top\"]//h3[@class=\"filmPreview__title\"]/text()' # tytuł\n",
    "xpath = '//div[@class = \"myVoteBox__top\"]//span[@class=\"filmPreview__year\"]/text()' #rok\n",
    "xpath = '//div[@class = \"myVoteBox__top\"]//span[@class=\"rateBox__rate\"]/text()' #ocena\n",
    "xpath = '//div[@class = \"myVoteBox__top\"]//span[@class=\"rateBox__votes rateBox__votes--count\"]/text()' # liczba ocen\n",
    "xpath = '//div[@class = \"myVoteBox__top\"]//div[@class=\"filmPreview__info filmPreview__info--genres\"]//ul' # gatunek (tricky, kilka naraz)\n",
    "xpath = '//div[@class = \"myVoteBox__top\"]//div[@class=\"filmPreview__info filmPreview__info--directors\"]//ul' # reżyserowie (tricky, kilka naraz)\n",
    "xpath = '//span[@class = \"dataSource hide\"]//script/text()' # Dane o ocenie jako json!\n",
    "\n",
    "# xpath = '//div[@class = \"page__container\"]//*[@class=\"voteCommentBox__container\"]//div[@data-id]/@data-id' # Id filmu do wykorzystania z joinem do ocen\n",
    "# xpath = '//div[contains(@class, \"voteCommentBox__container\")]//div[@data-id]/@data-id' # Id filmu do wykorzystania z joinem do ocen\n",
    "\n",
    "sel.xpath(xpath).getall()\n",
    "\n",
    "# https://www.filmweb.pl/ajax/userData?t=1585491934493\n",
    "\n"
   ]
  },
  {
   "cell_type": "code",
   "execution_count": 89,
   "metadata": {},
   "outputs": [
    {
     "data": {
      "text/plain": [
       "'{ \"t\":1585177029 ,\"eId\":762864 ,\"uId\":3542713 ,\"r\":7 ,\"d\":{ \"y\":2020 ,\"m\":3 ,\"d\":25 } , \"a\": 0 }'"
      ]
     },
     "execution_count": 89,
     "metadata": {},
     "output_type": "execute_result"
    }
   ],
   "source": [
    "json_list = []\n",
    "\n",
    "with open(\"a/jsons.txt\", \"r\") as f:\n",
    "    json_list = f.readlines()\n",
    "\n",
    "\n",
    "json_list = [x.strip() for x in json_list]\n",
    "json_list[0]"
   ]
  },
  {
   "cell_type": "code",
   "execution_count": 91,
   "metadata": {},
   "outputs": [],
   "source": [
    "import json\n",
    "a = json.loads(json_list[0])"
   ]
  },
  {
   "cell_type": "code",
   "execution_count": 95,
   "metadata": {},
   "outputs": [
    {
     "data": {
      "text/plain": [
       "<generator object a at 0x000001F96E7739C8>"
      ]
     },
     "execution_count": 95,
     "metadata": {},
     "output_type": "execute_result"
    }
   ],
   "source": [
    "def a():\n",
    "    for i in range(10):\n",
    "        yield i\n",
    "        \n",
    "    for j in range(100, 120):\n",
    "        yield j\n",
    "        \n",
    "a()"
   ]
  },
  {
   "cell_type": "code",
   "execution_count": 104,
   "metadata": {},
   "outputs": [
    {
     "data": {
      "text/plain": [
       "'https://www.filmweb.pl/user/{user}/films?page='"
      ]
     },
     "execution_count": 104,
     "metadata": {},
     "output_type": "execute_result"
    }
   ],
   "source": [
    "import re\n",
    "a = 'https://www.filmweb.pl/user/{user}/films?page=1'\n",
    "\n",
    "re.sub(r'\\d+$', '', a)"
   ]
  },
  {
   "cell_type": "code",
   "execution_count": 101,
   "metadata": {},
   "outputs": [
    {
     "data": {
      "text/plain": [
       "50"
      ]
     },
     "execution_count": 101,
     "metadata": {},
     "output_type": "execute_result"
    }
   ],
   "source": [
    "int(re.findall(r'\\d+$', a)[0])"
   ]
  },
  {
   "cell_type": "code",
   "execution_count": 113,
   "metadata": {},
   "outputs": [
    {
     "name": "stdout",
     "output_type": "stream",
     "text": [
      "['Juliette97', 'Zohelka', 'AoiYuno', 'MartynaRajca', 'Ayvynn', 'golebiewski_d', 'Naxori', 'MrDeath19', 'Xerej', 'pawel_lis96', 'hubert_kowalski10', 'gfhfygyh', 'Nissanfan', 'krzysztof1210', 'olazimniak', 'thejustinejane', 'mauget', 'sogadite', 'Azater', 'Kpilarsky', 'Mmargosia', 'mankaa_', 'spanieleczek', 'klawy606', 'domenykaa', 'Karwix', 'aaleksandag', 'anna97w', 'wszczepanski97', 'alexandras1997', 'robertouvaspino', 'gabrysia_21', 'rafal09', 'pkoziolek1', 'ADomoslawski', 'penelope_aldaya', 'Filmography', 'piotrek_cyran', 'WozniaczekSlodziaczek', 'natalkaa75', 'Igulec_x', 'janosikowski', 's_pagowski', 'karal_filmweb', 'greyshh', 'martaprusik', 'markoviak21', 'ninaj_filmaniak', 'magda_kowaluk', 'michal_zadworny1997', 'werksson', 'pawoio', 'ania1621', 'Andrew107', 'Havoc_11', 'Fifilifion10', 'MateuszTryjanowski', 'dano999', 'Koscik97', 'schmeichel97', 'DOMINIKA12345_filmweb', 'Reckless17', 'MuFaBu', 'pmarcinkowski', 'greenzuz', 'Kinga2', 'zoxicu', 'Bathorzak', 'buujaczek', 'emuemem', 'siilwia', 'guczix', 'Treborso', 'mati979', 'Kamilmac', 'MadeleineApocraphex', 'KubaOszczyk', 'Jaszei', 'Avanti11', 'szmajdzinska', 'megi_star', 'ew_wela', 'kamillos_97', 'nelii_113', 'monika2097', 'macplawski', 'Dr_Marvel', 'milenadzwonnik', 'juliette737', 'paula602w', 'katarzynakamler', '\"\"', 'jamandjelly', 'kamma_hha', 'kami97', 'yoyamba', 'Mag222', 'justp3t3r', 'juliag97', 'madziazmc95']\n"
     ]
    }
   ],
   "source": [
    "with open('a/data/friends.csv', 'r') as file:\n",
    "    print([i.rstrip() for i in file.readlines()])"
   ]
  },
  {
   "cell_type": "code",
   "execution_count": 102,
   "metadata": {},
   "outputs": [],
   "source": [
    "def next_page_url(url):\n",
    "    current = int(re.findall(r'\\d+$', url)[0])\n",
    "    return re.sub(r'\\d+$', str(current+1), url)"
   ]
  },
  {
   "cell_type": "code",
   "execution_count": 105,
   "metadata": {},
   "outputs": [
    {
     "data": {
      "text/plain": [
       "'https://www.filmweb.pl/user/{user}/films?page=2'"
      ]
     },
     "execution_count": 105,
     "metadata": {},
     "output_type": "execute_result"
    }
   ],
   "source": [
    "next_page_url(a)"
   ]
  },
  {
   "cell_type": "code",
   "execution_count": 96,
   "metadata": {},
   "outputs": [
    {
     "name": "stdout",
     "output_type": "stream",
     "text": [
      "0\n",
      "1\n",
      "2\n",
      "3\n",
      "4\n",
      "5\n",
      "6\n",
      "7\n",
      "8\n",
      "9\n",
      "100\n",
      "101\n",
      "102\n",
      "103\n",
      "104\n",
      "105\n",
      "106\n",
      "107\n",
      "108\n",
      "109\n",
      "110\n",
      "111\n",
      "112\n",
      "113\n",
      "114\n",
      "115\n",
      "116\n",
      "117\n",
      "118\n",
      "119\n"
     ]
    }
   ],
   "source": [
    "for i in a():\n",
    "    print(i)"
   ]
  },
  {
   "cell_type": "code",
   "execution_count": null,
   "metadata": {},
   "outputs": [],
   "source": []
  }
 ],
 "metadata": {
  "kernelspec": {
   "display_name": "Python [conda env:flixbus]",
   "language": "python",
   "name": "conda-env-flixbus-py"
  },
  "language_info": {
   "codemirror_mode": {
    "name": "ipython",
    "version": 3
   },
   "file_extension": ".py",
   "mimetype": "text/x-python",
   "name": "python",
   "nbconvert_exporter": "python",
   "pygments_lexer": "ipython3",
   "version": "3.7.5"
  }
 },
 "nbformat": 4,
 "nbformat_minor": 4
}
